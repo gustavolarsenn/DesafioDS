{
 "cells": [
  {
   "cell_type": "code",
   "execution_count": 89,
   "id": "7c6295e2",
   "metadata": {
    "scrolled": true
   },
   "outputs": [
    {
     "data": {
      "text/plain": [
       "'pt_BR.UTF-8'"
      ]
     },
     "execution_count": 89,
     "metadata": {},
     "output_type": "execute_result"
    }
   ],
   "source": [
    "import pandas as pd\n",
    "import locale\n",
    "locale.setlocale(locale.LC_ALL, 'pt_BR.UTF-8')"
   ]
  },
  {
   "cell_type": "code",
   "execution_count": 104,
   "id": "5b9f1540",
   "metadata": {
    "scrolled": false
   },
   "outputs": [],
   "source": [
    "base_df = pd.read_excel(\"Base_de_dados.xlsx\")\n"
   ]
  },
  {
   "cell_type": "code",
   "execution_count": 105,
   "id": "0ea402a5",
   "metadata": {},
   "outputs": [],
   "source": [
    "#Dados clientes\n",
    "unique_df = base_df.drop_duplicates(subset=['codigo_cliente'])\n",
    "clienteDif = unique_df['codigo_cliente'].count()\n",
    "\n",
    "#Dados custodia\n",
    "custodiaTotal = base_df['custodia'].sum()\n",
    "custodiaMedia = base_df['custodia'].mean()\n",
    "\n",
    "#Dados idade\n",
    "idadeMedia = base_df['idade'].mean()\n",
    "\n"
   ]
  },
  {
   "cell_type": "code",
   "execution_count": 106,
   "id": "db8c9261",
   "metadata": {
    "scrolled": true
   },
   "outputs": [
    {
     "name": "stdout",
     "output_type": "stream",
     "text": [
      "Quantidade de clientes diferentes na base de dados: 10\n",
      "A custódia total é de: R$ 1.267.742,00\n",
      "A custódia média é de: R$ 126.774,20\n",
      "A média de idade é de: 30.7 anos.\n"
     ]
    }
   ],
   "source": [
    "print(\"Quantidade de clientes diferentes na base de dados: \" + str(clienteDif))\n",
    "print(\"A custódia total é de: \" + str(locale.currency(custodiaTotal, grouping=True)))\n",
    "print(\"A custódia média é de: \" + str(locale.currency(custodiaMedia, grouping=True)))\n",
    "print(\"A média de idade é de: \" + str(idadeMedia) + \" anos.\")\n",
    "\n"
   ]
  },
  {
   "cell_type": "code",
   "execution_count": null,
   "id": "ba8a492c",
   "metadata": {},
   "outputs": [],
   "source": []
  },
  {
   "cell_type": "code",
   "execution_count": null,
   "id": "f71fed3c",
   "metadata": {},
   "outputs": [],
   "source": []
  }
 ],
 "metadata": {
  "kernelspec": {
   "display_name": "Python 3 (ipykernel)",
   "language": "python",
   "name": "python3"
  },
  "language_info": {
   "codemirror_mode": {
    "name": "ipython",
    "version": 3
   },
   "file_extension": ".py",
   "mimetype": "text/x-python",
   "name": "python",
   "nbconvert_exporter": "python",
   "pygments_lexer": "ipython3",
   "version": "3.9.12"
  }
 },
 "nbformat": 4,
 "nbformat_minor": 5
}
